{
 "cells": [
  {
   "cell_type": "code",
   "execution_count": 22,
   "metadata": {
    "collapsed": false
   },
   "outputs": [],
   "source": [
    "import pickle\n",
    "import pandas as pd\n",
    "import scipy as sp\n",
    "import numpy as np\n",
    "from matplotlib import pyplot as plt\n",
    "%matplotlib inline\n",
    "from IPython.display import Image\n",
    "from sklearn.tree import DecisionTreeClassifier\n",
    "from sklearn.ensemble import AdaBoostClassifier\n",
    "from sklearn.linear_model import LogisticRegression\n",
    "from sklearn.model_selection import KFold\n",
    "from sklearn.metrics import log_loss"
   ]
  },
  {
   "cell_type": "markdown",
   "metadata": {},
   "source": [
    "# Load data"
   ]
  },
  {
   "cell_type": "code",
   "execution_count": 2,
   "metadata": {
    "collapsed": true
   },
   "outputs": [],
   "source": [
    "data_dict = pickle.load(open('quora_questions.pickle', 'rb'))\n",
    "train = data_dict['train_df']\n",
    "test = data_dict['test_df']"
   ]
  },
  {
   "cell_type": "markdown",
   "metadata": {},
   "source": [
    "# Create features"
   ]
  },
  {
   "cell_type": "code",
   "execution_count": 5,
   "metadata": {
    "collapsed": true
   },
   "outputs": [],
   "source": [
    "def get_common_tokens_ratio(row):\n",
    "    if row['all_tokens_count'] == 0:\n",
    "        return 0\n",
    "    else:\n",
    "        return float(row['common_tokens_count']) / float(row['all_tokens_count'])\n",
    "\n",
    "def count_common_tokens(row, q):\n",
    "    count = 0\n",
    "    for token in row['tokens_' + q]:\n",
    "        if token in row['common_tokens']:\n",
    "            count += 1\n",
    "    return count\n",
    "    \n",
    "def get_common_tokens_ratio_per_q(row, q):\n",
    "    if row['token_count_' + q] == 0:\n",
    "        return 0\n",
    "    else:\n",
    "        return float(row['common_tokens_count_' + q]) / float(row['token_count_' + q])\n",
    "\n",
    "def get_ratio(row, feature):\n",
    "    count_1 = row[feature + '_question1']\n",
    "    count_2 = row[feature + '_question2']\n",
    "    if (count_1 == 0) or (count_2 == 0):\n",
    "        return 0\n",
    "    else:\n",
    "        return float(min(count_1, count_2)) / float(max(count_1, count_2))"
   ]
  },
  {
   "cell_type": "code",
   "execution_count": 17,
   "metadata": {
    "collapsed": false
   },
   "outputs": [
    {
     "data": {
      "text/html": [
       "<div>\n",
       "<table border=\"1\" class=\"dataframe\">\n",
       "  <thead>\n",
       "    <tr style=\"text-align: right;\">\n",
       "      <th></th>\n",
       "      <th>id</th>\n",
       "      <th>qid1</th>\n",
       "      <th>qid2</th>\n",
       "      <th>question1</th>\n",
       "      <th>question2</th>\n",
       "      <th>is_duplicate</th>\n",
       "      <th>pair_id</th>\n",
       "      <th>cosine_sim</th>\n",
       "      <th>tokens_question1</th>\n",
       "      <th>tokens_question2</th>\n",
       "      <th>...</th>\n",
       "      <th>char_count_question1</th>\n",
       "      <th>token_count_question1</th>\n",
       "      <th>common_tokens_count_question1</th>\n",
       "      <th>common_tokens_ratio_question1</th>\n",
       "      <th>char_count_question2</th>\n",
       "      <th>token_count_question2</th>\n",
       "      <th>common_tokens_count_question2</th>\n",
       "      <th>common_tokens_ratio_question2</th>\n",
       "      <th>ratio_char_count</th>\n",
       "      <th>ratio_token_count</th>\n",
       "    </tr>\n",
       "  </thead>\n",
       "  <tbody>\n",
       "    <tr>\n",
       "      <th>0</th>\n",
       "      <td>0</td>\n",
       "      <td>1</td>\n",
       "      <td>2</td>\n",
       "      <td>What is the step by step guide to invest in sh...</td>\n",
       "      <td>What is the step by step guide to invest in sh...</td>\n",
       "      <td>0</td>\n",
       "      <td>0</td>\n",
       "      <td>0.976409</td>\n",
       "      <td>[What, is, the, step, by, step, guide, to, inv...</td>\n",
       "      <td>[What, is, the, step, by, step, guide, to, inv...</td>\n",
       "      <td>...</td>\n",
       "      <td>66</td>\n",
       "      <td>15</td>\n",
       "      <td>14</td>\n",
       "      <td>0.933333</td>\n",
       "      <td>57</td>\n",
       "      <td>13</td>\n",
       "      <td>13</td>\n",
       "      <td>1.000000</td>\n",
       "      <td>0.863636</td>\n",
       "      <td>0.866667</td>\n",
       "    </tr>\n",
       "    <tr>\n",
       "      <th>1</th>\n",
       "      <td>1</td>\n",
       "      <td>3</td>\n",
       "      <td>4</td>\n",
       "      <td>What is the story of Kohinoor (Koh-i-Noor) Dia...</td>\n",
       "      <td>What would happen if the Indian government sto...</td>\n",
       "      <td>0</td>\n",
       "      <td>1</td>\n",
       "      <td>0.716202</td>\n",
       "      <td>[What, is, the, story, of, Kohinoor, (, Koh-i-...</td>\n",
       "      <td>[What, would, happen, if, the, Indian, governm...</td>\n",
       "      <td>...</td>\n",
       "      <td>51</td>\n",
       "      <td>11</td>\n",
       "      <td>7</td>\n",
       "      <td>0.636364</td>\n",
       "      <td>88</td>\n",
       "      <td>16</td>\n",
       "      <td>8</td>\n",
       "      <td>0.500000</td>\n",
       "      <td>0.579545</td>\n",
       "      <td>0.687500</td>\n",
       "    </tr>\n",
       "    <tr>\n",
       "      <th>2</th>\n",
       "      <td>2</td>\n",
       "      <td>5</td>\n",
       "      <td>6</td>\n",
       "      <td>How can I increase the speed of my internet co...</td>\n",
       "      <td>How can Internet speed be increased by hacking...</td>\n",
       "      <td>0</td>\n",
       "      <td>2</td>\n",
       "      <td>0.252362</td>\n",
       "      <td>[How, can, I, increase, the, speed, of, my, in...</td>\n",
       "      <td>[How, can, Internet, speed, be, increased, by,...</td>\n",
       "      <td>...</td>\n",
       "      <td>73</td>\n",
       "      <td>15</td>\n",
       "      <td>4</td>\n",
       "      <td>0.266667</td>\n",
       "      <td>59</td>\n",
       "      <td>11</td>\n",
       "      <td>4</td>\n",
       "      <td>0.363636</td>\n",
       "      <td>0.808219</td>\n",
       "      <td>0.733333</td>\n",
       "    </tr>\n",
       "    <tr>\n",
       "      <th>3</th>\n",
       "      <td>3</td>\n",
       "      <td>7</td>\n",
       "      <td>8</td>\n",
       "      <td>Why am I mentally very lonely? How can I solve...</td>\n",
       "      <td>Find the remainder when [math]23^{24}[/math] i...</td>\n",
       "      <td>0</td>\n",
       "      <td>3</td>\n",
       "      <td>0.002819</td>\n",
       "      <td>[Why, am, I, mentally, very, lonely, ?, How, c...</td>\n",
       "      <td>[Find, the, remainder, when, [, math, ], 23^, ...</td>\n",
       "      <td>...</td>\n",
       "      <td>50</td>\n",
       "      <td>13</td>\n",
       "      <td>2</td>\n",
       "      <td>0.153846</td>\n",
       "      <td>65</td>\n",
       "      <td>19</td>\n",
       "      <td>1</td>\n",
       "      <td>0.052632</td>\n",
       "      <td>0.769231</td>\n",
       "      <td>0.684211</td>\n",
       "    </tr>\n",
       "    <tr>\n",
       "      <th>4</th>\n",
       "      <td>4</td>\n",
       "      <td>9</td>\n",
       "      <td>10</td>\n",
       "      <td>Which one dissolve in water quikly sugar, salt...</td>\n",
       "      <td>Which fish would survive in salt water?</td>\n",
       "      <td>0</td>\n",
       "      <td>4</td>\n",
       "      <td>0.252880</td>\n",
       "      <td>[Which, one, dissolve, in, water, quikly, suga...</td>\n",
       "      <td>[Which, fish, would, survive, in, salt, water, ?]</td>\n",
       "      <td>...</td>\n",
       "      <td>76</td>\n",
       "      <td>16</td>\n",
       "      <td>5</td>\n",
       "      <td>0.312500</td>\n",
       "      <td>39</td>\n",
       "      <td>8</td>\n",
       "      <td>5</td>\n",
       "      <td>0.625000</td>\n",
       "      <td>0.513158</td>\n",
       "      <td>0.500000</td>\n",
       "    </tr>\n",
       "  </tbody>\n",
       "</table>\n",
       "<p>5 rows × 25 columns</p>\n",
       "</div>"
      ],
      "text/plain": [
       "   id  qid1  qid2                                          question1  \\\n",
       "0   0     1     2  What is the step by step guide to invest in sh...   \n",
       "1   1     3     4  What is the story of Kohinoor (Koh-i-Noor) Dia...   \n",
       "2   2     5     6  How can I increase the speed of my internet co...   \n",
       "3   3     7     8  Why am I mentally very lonely? How can I solve...   \n",
       "4   4     9    10  Which one dissolve in water quikly sugar, salt...   \n",
       "\n",
       "                                           question2  is_duplicate  pair_id  \\\n",
       "0  What is the step by step guide to invest in sh...             0        0   \n",
       "1  What would happen if the Indian government sto...             0        1   \n",
       "2  How can Internet speed be increased by hacking...             0        2   \n",
       "3  Find the remainder when [math]23^{24}[/math] i...             0        3   \n",
       "4            Which fish would survive in salt water?             0        4   \n",
       "\n",
       "   cosine_sim                                   tokens_question1  \\\n",
       "0    0.976409  [What, is, the, step, by, step, guide, to, inv...   \n",
       "1    0.716202  [What, is, the, story, of, Kohinoor, (, Koh-i-...   \n",
       "2    0.252362  [How, can, I, increase, the, speed, of, my, in...   \n",
       "3    0.002819  [Why, am, I, mentally, very, lonely, ?, How, c...   \n",
       "4    0.252880  [Which, one, dissolve, in, water, quikly, suga...   \n",
       "\n",
       "                                    tokens_question2        ...          \\\n",
       "0  [What, is, the, step, by, step, guide, to, inv...        ...           \n",
       "1  [What, would, happen, if, the, Indian, governm...        ...           \n",
       "2  [How, can, Internet, speed, be, increased, by,...        ...           \n",
       "3  [Find, the, remainder, when, [, math, ], 23^, ...        ...           \n",
       "4  [Which, fish, would, survive, in, salt, water, ?]        ...           \n",
       "\n",
       "  char_count_question1  token_count_question1 common_tokens_count_question1  \\\n",
       "0                   66                     15                            14   \n",
       "1                   51                     11                             7   \n",
       "2                   73                     15                             4   \n",
       "3                   50                     13                             2   \n",
       "4                   76                     16                             5   \n",
       "\n",
       "   common_tokens_ratio_question1  char_count_question2  token_count_question2  \\\n",
       "0                       0.933333                    57                     13   \n",
       "1                       0.636364                    88                     16   \n",
       "2                       0.266667                    59                     11   \n",
       "3                       0.153846                    65                     19   \n",
       "4                       0.312500                    39                      8   \n",
       "\n",
       "   common_tokens_count_question2  common_tokens_ratio_question2  \\\n",
       "0                             13                       1.000000   \n",
       "1                              8                       0.500000   \n",
       "2                              4                       0.363636   \n",
       "3                              1                       0.052632   \n",
       "4                              5                       0.625000   \n",
       "\n",
       "   ratio_char_count  ratio_token_count  \n",
       "0          0.863636           0.866667  \n",
       "1          0.579545           0.687500  \n",
       "2          0.808219           0.733333  \n",
       "3          0.769231           0.684211  \n",
       "4          0.513158           0.500000  \n",
       "\n",
       "[5 rows x 25 columns]"
      ]
     },
     "execution_count": 17,
     "metadata": {},
     "output_type": "execute_result"
    }
   ],
   "source": [
    "df_list = [train, test]\n",
    "for i in range(len(df_list)):\n",
    "    df = df_list[i]\n",
    "    df['all_tokens'] = df.apply(lambda row: set(row['tokens_question1'] + row['tokens_question2']), axis=1)\n",
    "    df['all_tokens_count'] = df['all_tokens'].apply(len)\n",
    "    df['common_tokens'] = df.apply(lambda row: set(row['tokens_question1']).intersection(set(row['tokens_question2'])), axis=1)\n",
    "    df['common_tokens_count'] = df['common_tokens'].apply(len)\n",
    "    df['common_tokens_ratio'] = df.apply(get_common_tokens_ratio, axis=1)\n",
    "    \n",
    "    for q in ['question1', 'question2']:\n",
    "        df.loc[pd.isnull(df[q]), q] = ''\n",
    "        df['char_count_' + q] = df[q].apply(len)\n",
    "        df['token_count_' + q] = df['tokens_' + q].apply(len)\n",
    "        df['common_tokens_count_' + q] = df.apply(lambda row: count_common_tokens(row, q), axis=1)\n",
    "        df['common_tokens_ratio_' + q] = df.apply(lambda row: get_common_tokens_ratio_per_q(row, q), axis=1)\n",
    "    \n",
    "    for feature in ['char_count', 'token_count']:\n",
    "        df['ratio_' + feature] = df.apply(lambda row: get_ratio(row, feature), axis=1)\n",
    "\n",
    "    df_list[i] = df\n",
    "\n",
    "(train, test) = df_list\n",
    "train.head()"
   ]
  },
  {
   "cell_type": "markdown",
   "metadata": {},
   "source": [
    "## Save data for future use"
   ]
  },
  {
   "cell_type": "code",
   "execution_count": 41,
   "metadata": {
    "collapsed": false
   },
   "outputs": [],
   "source": [
    "import pickle\n",
    "pickle.dump(train, open('quora_questions_train_features.pickle', 'wb'))\n",
    "pickle.dump(test, open('quora_questions_test_features.pickle', 'wb'))"
   ]
  },
  {
   "cell_type": "markdown",
   "metadata": {},
   "source": [
    "# Prep data for training and prediction"
   ]
  },
  {
   "cell_type": "code",
   "execution_count": 5,
   "metadata": {
    "collapsed": false
   },
   "outputs": [],
   "source": [
    "features = ['cosine_sim', 'all_tokens_count', 'common_tokens_count', 'common_tokens_ratio', \n",
    "            'char_count_question1', 'char_count_question2', 'ratio_char_count', \n",
    "            'token_count_question1', 'token_count_question2', 'ratio_token_count', \n",
    "            'common_tokens_count_question1', 'common_tokens_count_question2', \n",
    "            'common_tokens_ratio_question1', 'common_tokens_ratio_question2']\n",
    "train_X = train[features]\n",
    "train_y = train['is_duplicate']\n",
    "test_X = test[features]"
   ]
  },
  {
   "cell_type": "markdown",
   "metadata": {},
   "source": [
    "# Log loss function"
   ]
  },
  {
   "cell_type": "code",
   "execution_count": 6,
   "metadata": {
    "collapsed": true
   },
   "outputs": [],
   "source": [
    "def logloss(act, pred):\n",
    "    epsilon = 1e-15\n",
    "    pred = sp.maximum(epsilon, pred)\n",
    "    pred = sp.minimum(1-epsilon, pred)\n",
    "    ll = sum(act*sp.log(pred) + sp.subtract(1,act)*sp.log(sp.subtract(1,pred)))\n",
    "    ll = ll * -1.0/len(act)\n",
    "    return ll"
   ]
  },
  {
   "cell_type": "markdown",
   "metadata": {},
   "source": [
    "# Decision Tree"
   ]
  },
  {
   "cell_type": "code",
   "execution_count": 7,
   "metadata": {
    "collapsed": false
   },
   "outputs": [
    {
     "name": "stdout",
     "output_type": "stream",
     "text": [
      "log loss on train data: 0.00914118146511\n"
     ]
    }
   ],
   "source": [
    "decision_tree = DecisionTreeClassifier(criterion='entropy') #, min_samples_split=1000)\n",
    "decision_tree.fit(train_X, train_y)\n",
    "test_y_decision_tree = decision_tree.predict(test_X)\n",
    "pred_decision_tree = pd.merge(test, pd.DataFrame(test_y_decision_tree).rename(columns={0: 'is_duplicate'}), left_index=True, right_index=True)\n",
    "pred_decision_tree[['test_id', 'is_duplicate']].to_csv('submit_3.csv', index=False)\n",
    "print('log loss on train data:', logloss(train['is_duplicate'], decision_tree.predict(train_X)))"
   ]
  },
  {
   "cell_type": "code",
   "execution_count": 37,
   "metadata": {
    "collapsed": true
   },
   "outputs": [],
   "source": [
    "# 10.97532"
   ]
  },
  {
   "cell_type": "markdown",
   "metadata": {},
   "source": [
    "# AdaBoost"
   ]
  },
  {
   "cell_type": "code",
   "execution_count": 33,
   "metadata": {
    "collapsed": false
   },
   "outputs": [
    {
     "name": "stdout",
     "output_type": "stream",
     "text": [
      "log loss on train data: 0.655420987094\n"
     ]
    }
   ],
   "source": [
    "adaboost = AdaBoostClassifier()\n",
    "adaboost.fit(train_X, train_y)\n",
    "test_y_adaboost = adaboost.predict_proba(test_X)[:, 1]\n",
    "pred_adaboost = pd.merge(test, pd.DataFrame(test_y_adaboost).rename(columns={0: 'is_duplicate'}), left_index=True, right_index=True)\n",
    "pred_adaboost[['test_id', 'is_duplicate']].to_csv('submit_4.csv', index=False)\n",
    "print('log loss on train data:', logloss(train['is_duplicate'], adaboost.predict_proba(train_X)[:, 1]))"
   ]
  },
  {
   "cell_type": "code",
   "execution_count": 36,
   "metadata": {
    "collapsed": false
   },
   "outputs": [
    {
     "data": {
      "image/png": "[encoded data removed]",
      "text/plain": [
       "<IPython.core.display.Image object>"
      ]
     },
     "execution_count": 36,
     "metadata": {},
     "output_type": "execute_result"
    }
   ],
   "source": [
    "Image(filename='Screen Shot 2017-03-25 at 4.13.17 AM.png')"
   ]
  },
  {
   "cell_type": "markdown",
   "metadata": {},
   "source": [
    "# Logistic Regression"
   ]
  },
  {
   "cell_type": "markdown",
   "metadata": {},
   "source": [
    "## Without l2 regularization"
   ]
  },
  {
   "cell_type": "code",
   "execution_count": 32,
   "metadata": {
    "collapsed": false
   },
   "outputs": [
    {
     "name": "stdout",
     "output_type": "stream",
     "text": [
      "log loss on train data: 0.540996231645\n"
     ]
    }
   ],
   "source": [
    "logistic_no_l2 = LogisticRegression()\n",
    "logistic_no_l2.fit(train_X, train_y)\n",
    "test_y_logistic_no_l2 = logistic_no_l2.predict_proba(test_X)[:, 1]\n",
    "pred_logistic_no_l2 = pd.merge(test, pd.DataFrame(test_y_logistic_no_l2).rename(columns={0: 'is_duplicate'}), left_index=True, right_index=True)\n",
    "pred_logistic_no_l2[['test_id', 'is_duplicate']].to_csv('submit_5.csv', index=False)\n",
    "print('log loss on train data:', logloss(train['is_duplicate'], logistic_no_l2.predict_proba(train_X)[:, 1]))"
   ]
  },
  {
   "cell_type": "code",
   "execution_count": 37,
   "metadata": {
    "collapsed": false
   },
   "outputs": [
    {
     "data": {
      "image/png": "[encoded data removed]",
      "text/plain": [
       "<IPython.core.display.Image object>"
      ]
     },
     "execution_count": 37,
     "metadata": {},
     "output_type": "execute_result"
    }
   ],
   "source": [
    "Image(filename='Screen Shot 2017-03-25 at 4.17.28 AM.png')"
   ]
  },
  {
   "cell_type": "markdown",
   "metadata": {},
   "source": [
    "## With l2 regularization"
   ]
  },
  {
   "cell_type": "code",
   "execution_count": 30,
   "metadata": {
    "collapsed": true
   },
   "outputs": [],
   "source": [
    "def find_best_l2(inv_of_l2_list, xscale):\n",
    "    loss_list = []\n",
    "    for inv_of_l2 in inv_of_l2_list:\n",
    "        loss = 0\n",
    "        model = LogisticRegression(penalty='l2', C=inv_of_l2)\n",
    "        kf = KFold(n_splits=5, shuffle=True, random_state=0)\n",
    "        for kf_train_index, kf_test_index in kf.split(train_X):\n",
    "            kf_train_X, kf_test_X = train_X.ix[kf_train_index], train_X.ix[kf_test_index]\n",
    "            kf_train_y, kf_test_y = train_y[kf_train_index], train_y[kf_test_index]\n",
    "            model.fit(kf_train_X, kf_train_y)\n",
    "            predictions_prob = model.predict_proba(kf_test_X)[:, 1]\n",
    "            loss += log_loss(kf_test_y, predictions_prob)\n",
    "            coefficients = model.coef_\n",
    "            loss += np.sum(coefficients.flatten() ** 2) #l2 norm without square root\n",
    "        loss = loss / 5.0\n",
    "        loss_list.append(loss)\n",
    "    plt.scatter(inv_of_l2_list, loss_list)\n",
    "    plt.xscale(xscale)\n",
    "    plt.xlim([min(inv_of_l2_list), max(inv_of_l2_list)])\n",
    "    plt.ylim([min(loss_list), max(loss_list)])\n",
    "    plt.xlabel('inverse of l2')\n",
    "    plt.ylabel('loss')\n",
    "    best_inv_of_l2 = inv_of_l2_list[loss_list.index(min(loss_list))]\n",
    "    print('Minimum Loss with Inverse of L2 = %.10f' % best_inv_of_l2)\n",
    "    return best_inv_of_l2"
   ]
  },
  {
   "cell_type": "code",
   "execution_count": 31,
   "metadata": {
    "collapsed": false
   },
   "outputs": [
    {
     "name": "stdout",
     "output_type": "stream",
     "text": [
      "Minimum Loss with Inverse of L2 = 0.0000020001\n"
     ]
    },
    {
     "data": {
      "image/png": "[encoded data removed]",
      "text/plain": [
       "<matplotlib.figure.Figure at 0x2be691da0>"
      ]
     },
     "metadata": {},
     "output_type": "display_data"
    }
   ],
   "source": [
    "best_inv_of_l2 = find_best_l2(np.arange(1e-10, 1e-5, ((1e-5)-(1e-10))/5), 'linear')"
   ]
  },
  {
   "cell_type": "code",
   "execution_count": 32,
   "metadata": {
    "collapsed": false
   },
   "outputs": [
    {
     "name": "stdout",
     "output_type": "stream",
     "text": [
      "Minimum Loss with Inverse of L2 = 0.0000016000\n"
     ]
    },
    {
     "data": {
      "image/png": "[encoded data removed]",
      "text/plain": [
       "<matplotlib.figure.Figure at 0x2bec6ae10>"
      ]
     },
     "metadata": {},
     "output_type": "display_data"
    }
   ],
   "source": [
    "best_inv_of_l2 = find_best_l2(np.arange(0.000001, 0.000003, (0.000003-0.000001)/10), 'linear')"
   ]
  },
  {
   "cell_type": "code",
   "execution_count": 33,
   "metadata": {
    "collapsed": false
   },
   "outputs": [
    {
     "name": "stdout",
     "output_type": "stream",
     "text": [
      "Minimum Loss with Inverse of L2 = 0.0000015400\n"
     ]
    },
    {
     "data": {
      "image/png": "[encoded data removed]",
      "text/plain": [
       "<matplotlib.figure.Figure at 0x2bf916b00>"
      ]
     },
     "metadata": {},
     "output_type": "display_data"
    }
   ],
   "source": [
    "best_inv_of_l2 = find_best_l2(np.arange(0.0000013, 0.0000019, (0.0000019-0.0000013)/10), 'linear')"
   ]
  },
  {
   "cell_type": "code",
   "execution_count": 35,
   "metadata": {
    "collapsed": false
   },
   "outputs": [
    {
     "name": "stdout",
     "output_type": "stream",
     "text": [
      "log loss on train data: 0.58779736703\n"
     ]
    }
   ],
   "source": [
    "logistic_l2 = LogisticRegression(penalty='l2', C=best_inv_of_l2)\n",
    "logistic_l2.fit(train_X, train_y)\n",
    "test_y_logistic_l2 = logistic_l2.predict_proba(test_X)[:, 1]\n",
    "pred_logistic_l2 = pd.merge(test, pd.DataFrame(test_y_logistic_l2).rename(columns={0: 'is_duplicate'}), left_index=True, right_index=True)\n",
    "pred_logistic_l2[['test_id', 'is_duplicate']].to_csv('submit_6.csv', index=False)\n",
    "print('log loss on train data:', logloss(train['is_duplicate'], logistic_l2.predict_proba(train_X)[:, 1]))"
   ]
  },
  {
   "cell_type": "code",
   "execution_count": 36,
   "metadata": {
    "collapsed": true
   },
   "outputs": [],
   "source": [
    "# 0.49644"
   ]
  },
  {
   "cell_type": "code",
   "execution_count": null,
   "metadata": {
    "collapsed": true
   },
   "outputs": [],
   "source": []
  }
 ],
 "metadata": {
  "anaconda-cloud": {},
  "kernelspec": {
   "display_name": "Python [default]",
   "language": "python",
   "name": "python3"
  },
  "language_info": {
   "codemirror_mode": {
    "name": "ipython",
    "version": 3
   },
   "file_extension": ".py",
   "mimetype": "text/x-python",
   "name": "python",
   "nbconvert_exporter": "python",
   "pygments_lexer": "ipython3",
   "version": "3.5.2"
  }
 },
 "nbformat": 4,
 "nbformat_minor": 1
}
