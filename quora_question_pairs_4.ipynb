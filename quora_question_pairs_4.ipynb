{
 "cells": [
  {
   "cell_type": "code",
   "execution_count": 10,
   "metadata": {
    "collapsed": true
   },
   "outputs": [],
   "source": [
    "import pickle\n",
    "import pandas as pd\n",
    "from sklearn.decomposition import TruncatedSVD\n",
    "import scipy as sp\n",
    "from sklearn.linear_model import LogisticRegression\n",
    "import xgboost as xgb\n",
    "from IPython.display import Image"
   ]
  },
  {
   "cell_type": "markdown",
   "metadata": {},
   "source": [
    "# Load data"
   ]
  },
  {
   "cell_type": "code",
   "execution_count": 2,
   "metadata": {
    "collapsed": true
   },
   "outputs": [],
   "source": [
    "tfidf = pickle.load(open('quora_tfidf.pickle', 'rb'))['tfidf_matrix']\n",
    "train = pickle.load(open('quora_questions_train_features.pickle', 'rb'))\n",
    "test = pickle.load(open('quora_questions_test_features.pickle', 'rb'))"
   ]
  },
  {
   "cell_type": "markdown",
   "metadata": {
    "collapsed": true
   },
   "source": [
    "# Reduce TF-IDF dimensions\n",
    "Reference: http://scikit-learn.org/stable/modules/generated/sklearn.decomposition.TruncatedSVD.html"
   ]
  },
  {
   "cell_type": "code",
   "execution_count": 3,
   "metadata": {
    "collapsed": true
   },
   "outputs": [],
   "source": [
    "svd = TruncatedSVD(n_components=100, n_iter=25, random_state=0)\n",
    "reduced_tfidf = svd.fit_transform(tfidf)"
   ]
  },
  {
   "cell_type": "markdown",
   "metadata": {},
   "source": [
    "# Add reduced TF-IDF to train and test"
   ]
  },
  {
   "cell_type": "code",
   "execution_count": 4,
   "metadata": {
    "collapsed": false
   },
   "outputs": [],
   "source": [
    "df_reduced_tfidf = pd.DataFrame(reduced_tfidf)\n",
    "\n",
    "q2_reduced_tfidf_col = {}\n",
    "for i in range(0, 100):\n",
    "    q2_reduced_tfidf_col[i] = i + 100\n",
    "\n",
    "df_reduced_tfidf_train_question1 = df_reduced_tfidf.iloc[::2][: len(train)].reset_index(drop=True)\n",
    "df_reduced_tfidf_train_question2 = df_reduced_tfidf.iloc[1::2][: len(train)].rename(columns=q2_reduced_tfidf_col).reset_index(drop=True)\n",
    "df_reduced_tfidf_test_question1 = df_reduced_tfidf.iloc[::2][len(train):].reset_index(drop=True)\n",
    "df_reduced_tfidf_test_question2 = df_reduced_tfidf.iloc[1::2][len(train):].rename(columns=q2_reduced_tfidf_col).reset_index(drop=True)\n",
    "\n",
    "train = pd.merge(train, df_reduced_tfidf_train_question1, left_index=True, right_index=True)\n",
    "train = pd.merge(train, df_reduced_tfidf_train_question2, left_index=True, right_index=True)\n",
    "test = pd.merge(test, df_reduced_tfidf_test_question1, left_index=True, right_index=True)\n",
    "test = pd.merge(test, df_reduced_tfidf_test_question2, left_index=True, right_index=True)"
   ]
  },
  {
   "cell_type": "markdown",
   "metadata": {},
   "source": [
    "## Save data for future use"
   ]
  },
  {
   "cell_type": "code",
   "execution_count": 17,
   "metadata": {
    "collapsed": false
   },
   "outputs": [],
   "source": [
    "pickle.dump(train, open('quora_questions_train_features_v2.pickle', 'wb'))\n",
    "pickle.dump(test[: 500000], open('quora_questions_test_features_v2_part1.pickle', 'wb'))\n",
    "pickle.dump(test[500000: 1000000], open('quora_questions_test_features_v2_part2.pickle', 'wb'))\n",
    "pickle.dump(test[1000000: 1500000], open('quora_questions_test_features_v2_part3.pickle', 'wb'))\n",
    "pickle.dump(test[1500000: 2000000], open('quora_questions_test_features_v2_part4.pickle', 'wb'))\n",
    "pickle.dump(test[2000000:], open('quora_questions_test_features_v2_part5.pickle', 'wb'))"
   ]
  },
  {
   "cell_type": "markdown",
   "metadata": {},
   "source": [
    "# Prep data for training and prediction"
   ]
  },
  {
   "cell_type": "code",
   "execution_count": 18,
   "metadata": {
    "collapsed": false
   },
   "outputs": [],
   "source": [
    "features = ['cosine_sim', 'all_tokens_count', 'common_tokens_count', 'common_tokens_ratio', \n",
    "            'char_count_question1', 'char_count_question2', 'ratio_char_count',  \n",
    "            'token_count_question1', 'token_count_question2', 'ratio_token_count', \n",
    "            'common_tokens_count_question1', 'common_tokens_count_question2', \n",
    "            'common_tokens_ratio_question1', 'common_tokens_ratio_question2', \n",
    "            'ratio_common_tokens_ratio'] + list(range(0, 200))\n",
    "train_X = train[features]\n",
    "train_y = train['is_duplicate']\n",
    "test_X = test[features]"
   ]
  },
  {
   "cell_type": "markdown",
   "metadata": {},
   "source": [
    "# Log loss function"
   ]
  },
  {
   "cell_type": "code",
   "execution_count": 6,
   "metadata": {
    "collapsed": true
   },
   "outputs": [],
   "source": [
    "def logloss(act, pred):\n",
    "    epsilon = 1e-15\n",
    "    pred = sp.maximum(epsilon, pred)\n",
    "    pred = sp.minimum(1-epsilon, pred)\n",
    "    ll = sum(act*sp.log(pred) + sp.subtract(1,act)*sp.log(sp.subtract(1,pred)))\n",
    "    ll = ll * -1.0/len(act)\n",
    "    return ll"
   ]
  },
  {
   "cell_type": "markdown",
   "metadata": {},
   "source": [
    "# Logistic Regression"
   ]
  },
  {
   "cell_type": "code",
   "execution_count": 7,
   "metadata": {
    "collapsed": false
   },
   "outputs": [
    {
     "name": "stdout",
     "output_type": "stream",
     "text": [
      "log loss on train data: 0.485651583769\n"
     ]
    }
   ],
   "source": [
    "logistic = LogisticRegression()\n",
    "logistic.fit(train_X, train_y)\n",
    "test_y_logistic = logistic.predict_proba(test_X)[:, 1]\n",
    "pred_logistic = pd.merge(test, pd.DataFrame(test_y_logistic).rename(columns={0: 'is_duplicate'}), left_index=True, right_index=True)\n",
    "pred_logistic[['test_id', 'is_duplicate']].to_csv('submit_14.csv', index=False)\n",
    "print('log loss on train data:', logloss(train['is_duplicate'], logistic.predict_proba(train_X)[:, 1]))"
   ]
  },
  {
   "cell_type": "code",
   "execution_count": 9,
   "metadata": {
    "collapsed": false
   },
   "outputs": [
    {
     "data": {
      "image/png": "[encoded data removed]",
      "text/plain": [
       "<IPython.core.display.Image object>"
      ]
     },
     "execution_count": 9,
     "metadata": {},
     "output_type": "execute_result"
    }
   ],
   "source": [
    "Image(filename='Screen Shot 2017-03-27 at 9.07.24 PM.png')"
   ]
  },
  {
   "cell_type": "markdown",
   "metadata": {},
   "source": [
    "# XGBoost"
   ]
  },
  {
   "cell_type": "code",
   "execution_count": 11,
   "metadata": {
    "collapsed": false
   },
   "outputs": [
    {
     "name": "stdout",
     "output_type": "stream",
     "text": [
      "log loss on train data: 0.468440296367\n"
     ]
    }
   ],
   "source": [
    "xgb_train = xgb.DMatrix(train_X, label=train_y)\n",
    "xgb_test = xgb.DMatrix(test_X)\n",
    "\n",
    "params = {'objective': 'binary:logistic', 'eval_metric': 'logloss'}\n",
    "xgboost = xgb.train(params, xgb_train)\n",
    "test_y_xgboost = xgboost.predict(xgb_test)\n",
    "pred_xgboost = pd.merge(test, pd.DataFrame(test_y_xgboost).rename(columns={0: 'is_duplicate'}), left_index=True, right_index=True)\n",
    "pred_xgboost[['test_id', 'is_duplicate']].to_csv('submit_15.csv', index=False)\n",
    "print('log loss on train data:', logloss(train['is_duplicate'], xgboost.predict(xgb_train)))"
   ]
  },
  {
   "cell_type": "markdown",
   "metadata": {},
   "source": [
    "Log loss on test data: 0.42748"
   ]
  },
  {
   "cell_type": "code",
   "execution_count": null,
   "metadata": {
    "collapsed": true
   },
   "outputs": [],
   "source": []
  }
 ],
 "metadata": {
  "anaconda-cloud": {},
  "kernelspec": {
   "display_name": "Python [default]",
   "language": "python",
   "name": "python3"
  },
  "language_info": {
   "codemirror_mode": {
    "name": "ipython",
    "version": 3
   },
   "file_extension": ".py",
   "mimetype": "text/x-python",
   "name": "python",
   "nbconvert_exporter": "python",
   "pygments_lexer": "ipython3",
   "version": "3.5.2"
  }
 },
 "nbformat": 4,
 "nbformat_minor": 1
}
